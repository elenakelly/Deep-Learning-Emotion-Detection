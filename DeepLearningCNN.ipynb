{
  "cells": [
    {
      "cell_type": "markdown",
      "metadata": {
        "id": "view-in-github",
        "colab_type": "text"
      },
      "source": [
        "<a href=\"https://colab.research.google.com/github/elenakelly/Deep-Learning-Emotion-Detection/blob/main/DeepLearningCNN.ipynb\" target=\"_parent\"><img src=\"https://colab.research.google.com/assets/colab-badge.svg\" alt=\"Open In Colab\"/></a>"
      ]
    },
    {
      "cell_type": "code",
      "execution_count": 1,
      "metadata": {
        "id": "3kQVioZ6F9r2"
      },
      "outputs": [],
      "source": [
        "#import zipfile"
      ]
    },
    {
      "cell_type": "code",
      "execution_count": 2,
      "metadata": {
        "id": "5w5qs8667D-O"
      },
      "outputs": [],
      "source": [
        "#with zipfile.ZipFile(\"data/archive.zip\",\"r\") as zip_ref:\n",
        "#    zip_ref.extractall(\"data\")"
      ]
    },
    {
      "cell_type": "code",
      "execution_count": 3,
      "metadata": {
        "id": "iw2cnYjselpj"
      },
      "outputs": [],
      "source": [
        "from keras.preprocessing.image import ImageDataGenerator\n",
        "from keras.models import Sequential\n",
        "from keras.layers import Dense,Dropout,Flatten\n",
        "from keras.layers import Conv2D,MaxPooling2D"
      ]
    },
    {
      "cell_type": "code",
      "execution_count": 4,
      "metadata": {
        "id": "5c9hxlzkZ7HW"
      },
      "outputs": [],
      "source": [
        "import matplotlib.pyplot as plt\n",
        "import numpy as np"
      ]
    },
    {
      "cell_type": "code",
      "execution_count": 5,
      "metadata": {
        "id": "insVsAkh8AT_"
      },
      "outputs": [],
      "source": [
        "import os"
      ]
    },
    {
      "cell_type": "code",
      "execution_count": 6,
      "metadata": {
        "id": "Kd4U8YkIaQQd"
      },
      "outputs": [],
      "source": [
        "train_data = 'drive/MyDrive/archive/train'\n",
        "test_data = 'drive/MyDrive/archive/test'"
      ]
    },
    {
      "cell_type": "code",
      "execution_count": 7,
      "metadata": {
        "id": "WWgziLwaas6U"
      },
      "outputs": [],
      "source": [
        "train_data_generator = ImageDataGenerator(rescale=1./255, rotation_range=30,shear_range=0.3,zoom_range=0.3, horizontal_flip=True, fill_mode='nearest')\n",
        "test_data_generator = ImageDataGenerator(rescale=1./255)"
      ]
    },
    {
      "cell_type": "code",
      "execution_count": 8,
      "metadata": {
        "id": "csb6Hb34bR6O",
        "colab": {
          "base_uri": "https://localhost:8080/"
        },
        "outputId": "0e92a7ff-a7ce-4d46-e716-11e5be4d0e73"
      },
      "outputs": [
        {
          "output_type": "stream",
          "name": "stdout",
          "text": [
            "Found 28759 images belonging to 7 classes.\n",
            "Found 7208 images belonging to 7 classes.\n"
          ]
        }
      ],
      "source": [
        "train_generator = train_data_generator.flow_from_directory(train_data, color_mode='grayscale',target_size=(48,48),batch_size=32,class_mode='categorical',shuffle=True)\n",
        "test_generator = test_data_generator.flow_from_directory(test_data, color_mode='grayscale',target_size=(48,48),batch_size=32,class_mode='categorical',shuffle=True)"
      ]
    },
    {
      "cell_type": "code",
      "execution_count": 9,
      "metadata": {
        "id": "YUAGIuIBmiHw"
      },
      "outputs": [],
      "source": [
        "#Verify our generator by plotting a few faces and printing corresponding labels\n",
        "class_labels=['Angry','Disgust', 'Fear', 'Happy','Neutral','Sad','Surprise']\n",
        "\n",
        "img, label = train_generator.__next__()"
      ]
    },
    {
      "cell_type": "code",
      "execution_count": 10,
      "metadata": {
        "id": "3-QwJiMWmnoG"
      },
      "outputs": [],
      "source": [
        "import random"
      ]
    },
    {
      "cell_type": "code",
      "execution_count": 11,
      "metadata": {
        "id": "Tu0j0KI8mlDQ",
        "colab": {
          "base_uri": "https://localhost:8080/",
          "height": 281
        },
        "outputId": "c1a1a375-423e-4c07-c7e3-c31a77823975"
      },
      "outputs": [
        {
          "output_type": "display_data",
          "data": {
            "text/plain": [
              "<Figure size 432x288 with 1 Axes>"
            ],
            "image/png": "[encoded data removed]"
          },
          "metadata": {
            "needs_background": "light"
          }
        }
      ],
      "source": [
        "i=random.randint(0, (img.shape[0])-1)\n",
        "image = img[i]\n",
        "labl = class_labels[label[i].argmax()]\n",
        "plt.imshow(image[:,:,0], cmap='gray')\n",
        "plt.title(labl)\n",
        "plt.show()"
      ]
    },
    {
      "cell_type": "code",
      "execution_count": 12,
      "metadata": {
        "id": "7O8i2HJDmsNW",
        "colab": {
          "base_uri": "https://localhost:8080/"
        },
        "outputId": "13e2e86c-398e-4709-dbb4-c6d496129de0"
      },
      "outputs": [
        {
          "output_type": "stream",
          "name": "stdout",
          "text": [
            "Model: \"sequential\"\n",
            "_________________________________________________________________\n",
            " Layer (type)                Output Shape              Param #   \n",
            "=================================================================\n",
            " conv2d (Conv2D)             (None, 46, 46, 32)        320       \n",
            "                                                                 \n",
            " conv2d_1 (Conv2D)           (None, 44, 44, 64)        18496     \n",
            "                                                                 \n",
            " max_pooling2d (MaxPooling2D  (None, 22, 22, 64)       0         \n",
            " )                                                               \n",
            "                                                                 \n",
            " dropout (Dropout)           (None, 22, 22, 64)        0         \n",
            "                                                                 \n",
            " conv2d_2 (Conv2D)           (None, 20, 20, 128)       73856     \n",
            "                                                                 \n",
            " max_pooling2d_1 (MaxPooling  (None, 10, 10, 128)      0         \n",
            " 2D)                                                             \n",
            "                                                                 \n",
            " dropout_1 (Dropout)         (None, 10, 10, 128)       0         \n",
            "                                                                 \n",
            " conv2d_3 (Conv2D)           (None, 8, 8, 256)         295168    \n",
            "                                                                 \n",
            " max_pooling2d_2 (MaxPooling  (None, 4, 4, 256)        0         \n",
            " 2D)                                                             \n",
            "                                                                 \n",
            " dropout_2 (Dropout)         (None, 4, 4, 256)         0         \n",
            "                                                                 \n",
            " flatten (Flatten)           (None, 4096)              0         \n",
            "                                                                 \n",
            " dense (Dense)               (None, 512)               2097664   \n",
            "                                                                 \n",
            " dropout_3 (Dropout)         (None, 512)               0         \n",
            "                                                                 \n",
            " dense_1 (Dense)             (None, 7)                 3591      \n",
            "                                                                 \n",
            "=================================================================\n",
            "Total params: 2,489,095\n",
            "Trainable params: 2,489,095\n",
            "Non-trainable params: 0\n",
            "_________________________________________________________________\n",
            "None\n"
          ]
        }
      ],
      "source": [
        "# Create the model\n",
        "model = Sequential()\n",
        "\n",
        "model.add(Conv2D(32, kernel_size=(3, 3), activation='relu', input_shape=(48,48,1)))\n",
        "\n",
        "model.add(Conv2D(64, kernel_size=(3, 3), activation='relu'))\n",
        "model.add(MaxPooling2D(pool_size=(2, 2)))\n",
        "model.add(Dropout(0.1))\n",
        "\n",
        "model.add(Conv2D(128, kernel_size=(3, 3), activation='relu'))\n",
        "model.add(MaxPooling2D(pool_size=(2, 2)))\n",
        "model.add(Dropout(0.1))\n",
        "\n",
        "model.add(Conv2D(256, kernel_size=(3, 3), activation='relu'))\n",
        "model.add(MaxPooling2D(pool_size=(2, 2)))\n",
        "model.add(Dropout(0.1))\n",
        "\n",
        "model.add(Flatten())\n",
        "model.add(Dense(512, activation='relu'))\n",
        "model.add(Dropout(0.2))\n",
        "\n",
        "model.add(Dense(7, activation='softmax'))\n",
        "\n",
        "model.compile(optimizer = 'adam', loss='categorical_crossentropy', metrics=['accuracy'])\n",
        "print(model.summary())"
      ]
    },
    {
      "cell_type": "code",
      "execution_count": 13,
      "metadata": {
        "id": "jqYcbnAems52"
      },
      "outputs": [],
      "source": [
        "train_path = \"drive/MyDrive/archive/train/\"\n",
        "test_path = \"drive/MyDrive/archive/test\""
      ]
    },
    {
      "cell_type": "code",
      "execution_count": 14,
      "metadata": {
        "id": "961AfsComxyn"
      },
      "outputs": [],
      "source": [
        "num_train_imgs = 0\n",
        "for root, dirs, files in os.walk(train_path):\n",
        "    num_train_imgs += len(files)\n",
        "    \n",
        "num_test_imgs = 0\n",
        "for root, dirs, files in os.walk(test_path):\n",
        "    num_test_imgs += len(files)"
      ]
    },
    {
      "cell_type": "code",
      "execution_count": 15,
      "metadata": {
        "colab": {
          "base_uri": "https://localhost:8080/"
        },
        "id": "Oey_njuzm0sA",
        "outputId": "67a27ef6-f486-479d-ae53-bb74aec50d85"
      },
      "outputs": [
        {
          "output_type": "stream",
          "name": "stdout",
          "text": [
            "Epoch 1/50\n",
            "898/898 [==============================] - 8263s 9s/step - loss: 1.7683 - accuracy: 0.2680 - val_loss: 1.6740 - val_accuracy: 0.3051\n",
            "Epoch 2/50\n",
            "898/898 [==============================] - 73s 82ms/step - loss: 1.6515 - accuracy: 0.3435 - val_loss: 1.4912 - val_accuracy: 0.4208\n",
            "Epoch 3/50\n",
            "898/898 [==============================] - 72s 80ms/step - loss: 1.5299 - accuracy: 0.4050 - val_loss: 1.3655 - val_accuracy: 0.4756\n",
            "Epoch 4/50\n",
            "898/898 [==============================] - 71s 79ms/step - loss: 1.4402 - accuracy: 0.4432 - val_loss: 1.2822 - val_accuracy: 0.5097\n",
            "Epoch 5/50\n",
            "898/898 [==============================] - 73s 81ms/step - loss: 1.3902 - accuracy: 0.4650 - val_loss: 1.2360 - val_accuracy: 0.5326\n",
            "Epoch 6/50\n",
            "898/898 [==============================] - 72s 80ms/step - loss: 1.3499 - accuracy: 0.4829 - val_loss: 1.2151 - val_accuracy: 0.5368\n",
            "Epoch 7/50\n",
            "898/898 [==============================] - 71s 79ms/step - loss: 1.3223 - accuracy: 0.4913 - val_loss: 1.1759 - val_accuracy: 0.5519\n",
            "Epoch 8/50\n",
            "898/898 [==============================] - 72s 81ms/step - loss: 1.2992 - accuracy: 0.5032 - val_loss: 1.1608 - val_accuracy: 0.5526\n",
            "Epoch 9/50\n",
            "898/898 [==============================] - 74s 82ms/step - loss: 1.2761 - accuracy: 0.5127 - val_loss: 1.1481 - val_accuracy: 0.5571\n",
            "Epoch 10/50\n",
            "898/898 [==============================] - 75s 83ms/step - loss: 1.2620 - accuracy: 0.5183 - val_loss: 1.1399 - val_accuracy: 0.5683\n",
            "Epoch 11/50\n",
            "898/898 [==============================] - 74s 83ms/step - loss: 1.2506 - accuracy: 0.5220 - val_loss: 1.1314 - val_accuracy: 0.5725\n",
            "Epoch 12/50\n",
            "898/898 [==============================] - 71s 80ms/step - loss: 1.2374 - accuracy: 0.5272 - val_loss: 1.1326 - val_accuracy: 0.5678\n",
            "Epoch 13/50\n",
            "898/898 [==============================] - 71s 80ms/step - loss: 1.2225 - accuracy: 0.5369 - val_loss: 1.1039 - val_accuracy: 0.5842\n",
            "Epoch 14/50\n",
            "898/898 [==============================] - 73s 81ms/step - loss: 1.2110 - accuracy: 0.5391 - val_loss: 1.1324 - val_accuracy: 0.5683\n",
            "Epoch 15/50\n",
            "898/898 [==============================] - 71s 79ms/step - loss: 1.2018 - accuracy: 0.5446 - val_loss: 1.1212 - val_accuracy: 0.5758\n",
            "Epoch 16/50\n",
            "898/898 [==============================] - 72s 80ms/step - loss: 1.1993 - accuracy: 0.5452 - val_loss: 1.0935 - val_accuracy: 0.5886\n",
            "Epoch 17/50\n",
            "898/898 [==============================] - 71s 79ms/step - loss: 1.1886 - accuracy: 0.5475 - val_loss: 1.0953 - val_accuracy: 0.5860\n",
            "Epoch 18/50\n",
            "898/898 [==============================] - 71s 79ms/step - loss: 1.1899 - accuracy: 0.5448 - val_loss: 1.0930 - val_accuracy: 0.5888\n",
            "Epoch 19/50\n",
            "898/898 [==============================] - 69s 77ms/step - loss: 1.1779 - accuracy: 0.5547 - val_loss: 1.0807 - val_accuracy: 0.5929\n",
            "Epoch 20/50\n",
            "898/898 [==============================] - 76s 84ms/step - loss: 1.1731 - accuracy: 0.5541 - val_loss: 1.0863 - val_accuracy: 0.5982\n",
            "Epoch 21/50\n",
            "898/898 [==============================] - 84s 94ms/step - loss: 1.1619 - accuracy: 0.5616 - val_loss: 1.0905 - val_accuracy: 0.5888\n",
            "Epoch 22/50\n",
            "898/898 [==============================] - 79s 88ms/step - loss: 1.1507 - accuracy: 0.5637 - val_loss: 1.0627 - val_accuracy: 0.5981\n",
            "Epoch 23/50\n",
            "898/898 [==============================] - 78s 87ms/step - loss: 1.1542 - accuracy: 0.5611 - val_loss: 1.0738 - val_accuracy: 0.5978\n",
            "Epoch 24/50\n",
            "898/898 [==============================] - 81s 90ms/step - loss: 1.1482 - accuracy: 0.5634 - val_loss: 1.0823 - val_accuracy: 0.5925\n",
            "Epoch 25/50\n",
            "898/898 [==============================] - 78s 87ms/step - loss: 1.1434 - accuracy: 0.5658 - val_loss: 1.0736 - val_accuracy: 0.5885\n",
            "Epoch 26/50\n",
            "898/898 [==============================] - 78s 87ms/step - loss: 1.1345 - accuracy: 0.5719 - val_loss: 1.0639 - val_accuracy: 0.5967\n",
            "Epoch 27/50\n",
            "898/898 [==============================] - 71s 79ms/step - loss: 1.1307 - accuracy: 0.5726 - val_loss: 1.0506 - val_accuracy: 0.6042\n",
            "Epoch 28/50\n",
            "898/898 [==============================] - 70s 78ms/step - loss: 1.1290 - accuracy: 0.5729 - val_loss: 1.0472 - val_accuracy: 0.6103\n",
            "Epoch 29/50\n",
            "898/898 [==============================] - 70s 78ms/step - loss: 1.1265 - accuracy: 0.5745 - val_loss: 1.0712 - val_accuracy: 0.5985\n",
            "Epoch 30/50\n",
            "898/898 [==============================] - 70s 78ms/step - loss: 1.1210 - accuracy: 0.5749 - val_loss: 1.0531 - val_accuracy: 0.5968\n",
            "Epoch 31/50\n",
            "898/898 [==============================] - 71s 79ms/step - loss: 1.1158 - accuracy: 0.5804 - val_loss: 1.0450 - val_accuracy: 0.6043\n",
            "Epoch 32/50\n",
            "898/898 [==============================] - 69s 77ms/step - loss: 1.1132 - accuracy: 0.5804 - val_loss: 1.0515 - val_accuracy: 0.6089\n",
            "Epoch 33/50\n",
            "898/898 [==============================] - 69s 77ms/step - loss: 1.1134 - accuracy: 0.5780 - val_loss: 1.0612 - val_accuracy: 0.6006\n",
            "Epoch 34/50\n",
            "898/898 [==============================] - 70s 78ms/step - loss: 1.1096 - accuracy: 0.5791 - val_loss: 1.0509 - val_accuracy: 0.6043\n",
            "Epoch 35/50\n",
            "898/898 [==============================] - 71s 79ms/step - loss: 1.1034 - accuracy: 0.5853 - val_loss: 1.0342 - val_accuracy: 0.6142\n",
            "Epoch 36/50\n",
            "898/898 [==============================] - 72s 80ms/step - loss: 1.1037 - accuracy: 0.5828 - val_loss: 1.0553 - val_accuracy: 0.6057\n",
            "Epoch 37/50\n",
            "898/898 [==============================] - 70s 78ms/step - loss: 1.0949 - accuracy: 0.5869 - val_loss: 1.0336 - val_accuracy: 0.6118\n",
            "Epoch 38/50\n",
            "898/898 [==============================] - 73s 81ms/step - loss: 1.0921 - accuracy: 0.5870 - val_loss: 1.0392 - val_accuracy: 0.6125\n",
            "Epoch 39/50\n",
            "898/898 [==============================] - 73s 81ms/step - loss: 1.0922 - accuracy: 0.5865 - val_loss: 1.0334 - val_accuracy: 0.6128\n",
            "Epoch 40/50\n",
            "898/898 [==============================] - 70s 78ms/step - loss: 1.0849 - accuracy: 0.5899 - val_loss: 1.0455 - val_accuracy: 0.6128\n",
            "Epoch 41/50\n",
            "898/898 [==============================] - 72s 80ms/step - loss: 1.0843 - accuracy: 0.5896 - val_loss: 1.0653 - val_accuracy: 0.5989\n",
            "Epoch 42/50\n",
            "898/898 [==============================] - 72s 80ms/step - loss: 1.0858 - accuracy: 0.5869 - val_loss: 1.0532 - val_accuracy: 0.6110\n",
            "Epoch 43/50\n",
            "898/898 [==============================] - 71s 79ms/step - loss: 1.0771 - accuracy: 0.5923 - val_loss: 1.0254 - val_accuracy: 0.6178\n",
            "Epoch 44/50\n",
            "898/898 [==============================] - 73s 81ms/step - loss: 1.0816 - accuracy: 0.5906 - val_loss: 1.0312 - val_accuracy: 0.6160\n",
            "Epoch 45/50\n",
            "898/898 [==============================] - 73s 81ms/step - loss: 1.0747 - accuracy: 0.5948 - val_loss: 1.0373 - val_accuracy: 0.6183\n",
            "Epoch 46/50\n",
            "898/898 [==============================] - 71s 79ms/step - loss: 1.0696 - accuracy: 0.5955 - val_loss: 1.0624 - val_accuracy: 0.6072\n",
            "Epoch 47/50\n",
            "898/898 [==============================] - 73s 81ms/step - loss: 1.0683 - accuracy: 0.5982 - val_loss: 1.0211 - val_accuracy: 0.6194\n",
            "Epoch 48/50\n",
            "898/898 [==============================] - 74s 82ms/step - loss: 1.0662 - accuracy: 0.5975 - val_loss: 1.0261 - val_accuracy: 0.6172\n",
            "Epoch 49/50\n",
            "898/898 [==============================] - 72s 80ms/step - loss: 1.0587 - accuracy: 0.6000 - val_loss: 1.0320 - val_accuracy: 0.6189\n",
            "Epoch 50/50\n",
            "898/898 [==============================] - 78s 87ms/step - loss: 1.0587 - accuracy: 0.5992 - val_loss: 1.0295 - val_accuracy: 0.6160\n"
          ]
        }
      ],
      "source": [
        "epochs=50\n",
        "\n",
        "history=model.fit(train_generator,\n",
        "                steps_per_epoch=num_train_imgs//32,\n",
        "                epochs=epochs,\n",
        "                validation_data=test_generator,\n",
        "                validation_steps=num_test_imgs//32)\n",
        "\n",
        "model.save('emotion_detection_model_100epochs.h5')"
      ]
    },
    {
      "cell_type": "code",
      "execution_count": 20,
      "metadata": {
        "id": "6VHwd-unnDux"
      },
      "outputs": [],
      "source": [
        "acc = history.history['accuracy']\n",
        "#acc = history.history['accuracy']\n",
        "val_acc = history.history['val_accuracy']\n",
        "#val_acc = history.history['val_accuracy']"
      ]
    },
    {
      "cell_type": "code",
      "execution_count": 21,
      "metadata": {
        "id": "Kd5vDxzIm372",
        "colab": {
          "base_uri": "https://localhost:8080/",
          "height": 295
        },
        "outputId": "e8f7c71b-bb10-4a91-c84b-1bf7ad4dfa3f"
      },
      "outputs": [
        {
          "output_type": "display_data",
          "data": {
            "text/plain": [
              "<Figure size 432x288 with 1 Axes>"
            ],
            "image/png": "[encoded data removed]"
          },
          "metadata": {
            "needs_background": "light"
          }
        }
      ],
      "source": [
        "#plot the training and validation accuracy and loss at each epoch\n",
        "loss = history.history['loss']\n",
        "val_loss = history.history['val_loss']\n",
        "epochs = range(1, len(loss) + 1)\n",
        "plt.plot(epochs, loss, 'y', label='Training loss')\n",
        "plt.plot(epochs, val_loss, 'r', label='Validation loss')\n",
        "plt.title('Training and validation loss')\n",
        "plt.xlabel('Epochs')\n",
        "plt.ylabel('Loss')\n",
        "plt.legend()\n",
        "plt.show()"
      ]
    },
    {
      "cell_type": "code",
      "source": [
        "plt.plot(epochs, acc, 'y', label='Training acc')\n",
        "plt.plot(epochs, val_acc, 'r', label='Validation acc')\n",
        "plt.title('Training and validation accuracy')\n",
        "plt.xlabel('Epochs')\n",
        "plt.ylabel('Accuracy')\n",
        "plt.legend()\n",
        "plt.show()"
      ],
      "metadata": {
        "colab": {
          "base_uri": "https://localhost:8080/",
          "height": 295
        },
        "id": "B3Wa19NgdFWV",
        "outputId": "7067c704-3b3c-42f0-8f37-c094d653e07b"
      },
      "execution_count": 22,
      "outputs": [
        {
          "output_type": "display_data",
          "data": {
            "text/plain": [
              "<Figure size 432x288 with 1 Axes>"
            ],
            "image/png": "[encoded data removed]"
          },
          "metadata": {
            "needs_background": "light"
          }
        }
      ]
    },
    {
      "cell_type": "code",
      "execution_count": 23,
      "metadata": {
        "id": "ualSj_pgnCdi"
      },
      "outputs": [],
      "source": [
        "from keras.models import load_model"
      ]
    },
    {
      "cell_type": "code",
      "execution_count": 24,
      "metadata": {
        "id": "BUHFfWL4nLSo"
      },
      "outputs": [],
      "source": [
        "#Test the model\n",
        "my_model = load_model('emotion_detection_model_100epochs.h5', compile=False)\n"
      ]
    },
    {
      "cell_type": "code",
      "execution_count": 26,
      "metadata": {
        "id": "OzJM9gV2nNUV"
      },
      "outputs": [],
      "source": [
        "\n",
        "#Generate a batch of images\n",
        "test_img, test_lbl = test_generator.__next__()\n",
        "predictions=my_model.predict(test_img)\n",
        "\n",
        "predictions = np.argmax(predictions, axis=1)\n",
        "test_labels = np.argmax(test_lbl, axis=1)"
      ]
    },
    {
      "cell_type": "code",
      "execution_count": 27,
      "metadata": {
        "id": "W2gQ_FM6nPTJ"
      },
      "outputs": [],
      "source": [
        "from sklearn import metrics"
      ]
    },
    {
      "cell_type": "code",
      "execution_count": 28,
      "metadata": {
        "id": "GeJtvA5fnQmP",
        "colab": {
          "base_uri": "https://localhost:8080/"
        },
        "outputId": "2a9f3da9-d39c-40bc-882d-91aa41bff7ef"
      },
      "outputs": [
        {
          "output_type": "stream",
          "name": "stdout",
          "text": [
            "Accuracy =  0.71875\n"
          ]
        }
      ],
      "source": [
        "print (\"Accuracy = \", metrics.accuracy_score(test_labels, predictions))"
      ]
    },
    {
      "cell_type": "code",
      "execution_count": 29,
      "metadata": {
        "id": "wl7G_L1DnRjr"
      },
      "outputs": [],
      "source": [
        "#Confusion Matrix - verify accuracy of each class\n",
        "from sklearn.metrics import confusion_matrix"
      ]
    },
    {
      "cell_type": "code",
      "execution_count": 30,
      "metadata": {
        "id": "U-wjihwvnTMo"
      },
      "outputs": [],
      "source": [
        "cm = confusion_matrix(test_labels, predictions)\n",
        "#print(cm)"
      ]
    },
    {
      "cell_type": "code",
      "execution_count": 31,
      "metadata": {
        "id": "hjBTzhHLnXa9"
      },
      "outputs": [],
      "source": [
        "import seaborn as sns"
      ]
    },
    {
      "cell_type": "code",
      "execution_count": 32,
      "metadata": {
        "id": "4vwSl7SWnVkb",
        "colab": {
          "base_uri": "https://localhost:8080/",
          "height": 286
        },
        "outputId": "eeb23046-3235-47f3-837a-18c9c0f607e7"
      },
      "outputs": [
        {
          "output_type": "execute_result",
          "data": {
            "text/plain": [
              "<matplotlib.axes._subplots.AxesSubplot at 0x7fc654de42d0>"
            ]
          },
          "metadata": {},
          "execution_count": 32
        },
        {
          "output_type": "display_data",
          "data": {
            "text/plain": [
              "<Figure size 432x288 with 2 Axes>"
            ],
            "image/png": "[encoded data removed]"
          },
          "metadata": {
            "needs_background": "light"
          }
        }
      ],
      "source": [
        "sns.heatmap(cm, annot=True)"
      ]
    },
    {
      "cell_type": "code",
      "execution_count": 33,
      "metadata": {
        "id": "4dChS9ZmnVD5",
        "colab": {
          "base_uri": "https://localhost:8080/",
          "height": 281
        },
        "outputId": "c0751cf1-b84a-4055-99da-c9e679b737a6"
      },
      "outputs": [
        {
          "output_type": "display_data",
          "data": {
            "text/plain": [
              "<Figure size 432x288 with 1 Axes>"
            ],
            "image/png": "[encoded data removed]"
          },
          "metadata": {
            "needs_background": "light"
          }
        }
      ],
      "source": [
        "class_labels=['Angry','Disgust', 'Fear', 'Happy','Neutral','Sad','Surprise']\n",
        "#Check results on a few select images\n",
        "n=random.randint(0, test_img.shape[0] - 1)\n",
        "image = test_img[n]\n",
        "orig_labl = class_labels[test_labels[n]]\n",
        "pred_labl = class_labels[predictions[n]]\n",
        "plt.imshow(image[:,:,0], cmap='gray')\n",
        "plt.title(\"Original label is:\"+orig_labl+\" Predicted is: \"+ pred_labl)\n",
        "plt.show()"
      ]
    }
  ],
  "metadata": {
    "accelerator": "TPU",
    "colab": {
      "collapsed_sections": [],
      "name": "DeepLearning.ipynb",
      "provenance": [],
      "machine_shape": "hm",
      "mount_file_id": "1wQXFLJ_mBU9H-j4eWafcJWwl3WF92SV-",
      "authorship_tag": "ABX9TyOFvemcicFWNqx9MIyCgEA3",
      "include_colab_link": true
    },
    "kernelspec": {
      "display_name": "Python 3",
      "name": "python3"
    },
    "language_info": {
      "name": "python"
    }
  },
  "nbformat": 4,
  "nbformat_minor": 0
}